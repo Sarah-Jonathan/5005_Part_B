{
 "cells": [
  {
   "cell_type": "markdown",
   "id": "bbc62213",
   "metadata": {},
   "source": [
    "### Encryption Example (AES-256)"
   ]
  },
  {
   "cell_type": "code",
   "execution_count": 1,
   "id": "a2aec5b7",
   "metadata": {},
   "outputs": [
    {
     "name": "stdout",
     "output_type": "stream",
     "text": [
      "Encrypted Data: b'gAAAAABlnBzpaWCq87-gCLWgTjvZkSJWMSLmpY5roKckxELIETCad79TwMoNoiR0vWg4lgwPC0ufHBwpVfsuu_vhs_whCOJjNXIBDQ0casng5UB7_U9BsZJgtoV9D9eTOwYBhIi08C3a'\n",
      "Decrypted Data: Temperature: 98.6, Heart rate: 72\n"
     ]
    }
   ],
   "source": [
    "from cryptography.fernet import Fernet\n",
    "\n",
    "# Generate a key\n",
    "key = Fernet.generate_key()\n",
    "\n",
    "# Example health data\n",
    "health_data = b\"Temperature: 98.6, Heart rate: 72\"\n",
    "\n",
    "# Encrypt the data\n",
    "cipher_suite = Fernet(key)\n",
    "encrypted_data = cipher_suite.encrypt(health_data)\n",
    "\n",
    "print(\"Encrypted Data:\", encrypted_data)  # Output: Encrypted Data: b'...' (random string)\n",
    "\n",
    "# Decrypt the data\n",
    "decrypted_data = cipher_suite.decrypt(encrypted_data)\n",
    "\n",
    "print(\"Decrypted Data:\", decrypted_data.decode())  # Output: Decrypted Data: Temperature: 98.6, Heart rate: 72"
   ]
  },
  {
   "cell_type": "markdown",
   "id": "2509964e",
   "metadata": {},
   "source": [
    "### SMPC Example (Simplified)"
   ]
  },
  {
   "cell_type": "code",
   "execution_count": 2,
   "id": "01bb3e50",
   "metadata": {},
   "outputs": [
    {
     "name": "stdout",
     "output_type": "stream",
     "text": [
      "Secure Result: [218.6 152. ]\n"
     ]
    }
   ],
   "source": [
    "import numpy as np\n",
    "\n",
    "# Generate sample health data\n",
    "data1 = np.array([98.6, 72])  # Temperature and heart rate\n",
    "data2 = np.array([120, 80])  # Blood pressure\n",
    "\n",
    "# Define a simple secure addition function (replace with a suitable SMPC library for real-world use)\n",
    "def secure_add(data1, data2):\n",
    "    result = data1 + data2\n",
    "    return result\n",
    "\n",
    "# Perform secure addition without revealing raw data values\n",
    "secure_result = secure_add(data1, data2)\n",
    "\n",
    "print(\"Secure Result:\", secure_result)  # Output: Secure Result: [218.6 152]"
   ]
  }
 ],
 "metadata": {
  "kernelspec": {
   "display_name": "Python 3 (ipykernel)",
   "language": "python",
   "name": "python3"
  },
  "language_info": {
   "codemirror_mode": {
    "name": "ipython",
    "version": 3
   },
   "file_extension": ".py",
   "mimetype": "text/x-python",
   "name": "python",
   "nbconvert_exporter": "python",
   "pygments_lexer": "ipython3",
   "version": "3.9.18"
  }
 },
 "nbformat": 4,
 "nbformat_minor": 5
}
