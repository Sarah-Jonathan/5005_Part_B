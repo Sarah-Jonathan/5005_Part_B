{
 "cells": [
  {
   "cell_type": "markdown",
   "id": "bbc62213",
   "metadata": {},
   "source": [
    "### Encryption Example (AES-256)"
   ]
  },
  {
   "cell_type": "code",
   "execution_count": 2,
   "id": "a2aec5b7",
   "metadata": {},
   "outputs": [
    {
     "name": "stdout",
     "output_type": "stream",
     "text": [
      "Encrypted data: 6659cc6e3ad33471e09cbff322abd25abacfb0780f2d591ed84e3e9e86dc81f344cad52f6bef8b844668bd0c13b222cb\n",
      "Decrypted data:  Temperature: 37.2 C, Heart Rate: 78 bpm\n"
     ]
    }
   ],
   "source": [
    "from Crypto.Cipher import AES\n",
    "from Crypto.Util.Padding import pad, unpad\n",
    "import os\n",
    "\n",
    "# Generate a random 16-byte key\n",
    "key = os.urandom(16)\n",
    "\n",
    "# Define pseudo health data\n",
    "data = \"Temperature: 37.2 C, Heart Rate: 78 bpm\"\n",
    "\n",
    "# Encrypt the data\n",
    "cipher = AES.new(key, AES.MODE_CBC, IV=os.urandom(16))\n",
    "encrypted_data = cipher.encrypt(pad(data.encode(), AES.block_size))\n",
    "print(\"Encrypted data:\", encrypted_data.hex())  # Print the encrypted data in hexadecimal format\n",
    "\n",
    "# Create a new cipher object for decryption\n",
    "decryption_cipher = AES.new(key, AES.MODE_CBC, IV=cipher.iv)  # Use the same IV\n",
    "\n",
    "# Decrypt the data\n",
    "decrypted_data = unpad(decryption_cipher.decrypt(encrypted_data), AES.block_size).decode('utf-8')\n",
    "\n",
    "print(\"Decrypted data: \", decrypted_data)"
   ]
  }
 ],
 "metadata": {
  "kernelspec": {
   "display_name": "Python 3 (ipykernel)",
   "language": "python",
   "name": "python3"
  },
  "language_info": {
   "codemirror_mode": {
    "name": "ipython",
    "version": 3
   },
   "file_extension": ".py",
   "mimetype": "text/x-python",
   "name": "python",
   "nbconvert_exporter": "python",
   "pygments_lexer": "ipython3",
   "version": "3.9.18"
  }
 },
 "nbformat": 4,
 "nbformat_minor": 5
}
