{
 "cells": [
  {
   "cell_type": "markdown",
   "id": "e63f5122",
   "metadata": {},
   "source": [
    "### AES Encryption"
   ]
  },
  {
   "cell_type": "code",
   "execution_count": 12,
   "id": "3a7451a5",
   "metadata": {},
   "outputs": [
    {
     "name": "stdout",
     "output_type": "stream",
     "text": [
      "Encrypted data: 8769d91246db2c1c69fea08fd7f74390608035de7b2a6e0b95eb8d2aaf31f23d71f1e85a2faa25088ce9e8b34b45eb19\n",
      "Decrypted data:  Temperature: 37.2 C, Heart Rate: 78 bpm\n"
     ]
    }
   ],
   "source": [
    "from Crypto.Cipher import AES\n",
    "from Crypto.Util.Padding import pad, unpad\n",
    "\n",
    "# Generate a random 16-byte key\n",
    "key = os.urandom(16)\n",
    "\n",
    "# Define pseudo health data\n",
    "data = \"Temperature: 37.2 C, Heart Rate: 78 bpm\"\n",
    "\n",
    "# Encrypt the data\n",
    "cipher = AES.new(key, AES.MODE_CBC, IV=os.urandom(16))\n",
    "encrypted_data = cipher.encrypt(pad(data.encode(), AES.block_size))\n",
    "print(\"Encrypted data:\", encrypted_data.hex())  # Print the encrypted data in hexadecimal format\n",
    "\n",
    "# Create a new cipher object for decryption\n",
    "decryption_cipher = AES.new(key, AES.MODE_CBC, IV=cipher.iv)  # Use the same IV\n",
    "\n",
    "# Decrypt the data\n",
    "decrypted_data = unpad(decryption_cipher.decrypt(encrypted_data), AES.block_size).decode('utf-8')\n",
    "\n",
    "print(\"Decrypted data: \", decrypted_data)"
   ]
  },
  {
   "cell_type": "markdown",
   "id": "24dd5b4e",
   "metadata": {},
   "source": [
    "### SSL/TLS Encryption "
   ]
  },
  {
   "cell_type": "code",
   "execution_count": 16,
   "id": "39b95981",
   "metadata": {},
   "outputs": [],
   "source": [
    "import socket\n",
    "import ssl\n",
    "\n",
    "# Server certificate and key (generated for demonstration)\n",
    "server_cert = \"server.crt\"\n",
    "server_key = \"server.key\"\n",
    "\n",
    "# Create a secure socket context\n",
    "context = ssl.create_default_context(cafile=\"ca.crt\")\n",
    "\n",
    "# Create a TCP/IP socket\n",
    "sock = socket.socket(socket.AF_INET, socket.SOCK_STREAM)\n",
    "\n",
    "# Securely connect to server with context\n",
    "secure_sock = context.wrap_socket(sock, server_hostname=\"cloud.example.com\")\n",
    "\n",
    "# Send and receive encrypted data (not shown for brevity)\n",
    "\n",
    "# Close the connection\n",
    "secure_sock.close()"
   ]
  }
 ],
 "metadata": {
  "kernelspec": {
   "display_name": "Python 3 (ipykernel)",
   "language": "python",
   "name": "python3"
  },
  "language_info": {
   "codemirror_mode": {
    "name": "ipython",
    "version": 3
   },
   "file_extension": ".py",
   "mimetype": "text/x-python",
   "name": "python",
   "nbconvert_exporter": "python",
   "pygments_lexer": "ipython3",
   "version": "3.9.18"
  }
 },
 "nbformat": 4,
 "nbformat_minor": 5
}
